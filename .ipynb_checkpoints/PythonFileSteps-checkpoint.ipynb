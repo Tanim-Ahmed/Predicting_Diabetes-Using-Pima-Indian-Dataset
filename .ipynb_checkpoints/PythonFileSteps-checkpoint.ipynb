{
 "cells": [
  {
   "cell_type": "markdown",
   "metadata": {},
   "source": [
    "# Learning\n",
    "This notebook contains some simple examples \"Jupyter Notebook\" and \"Python 3\"\n"
   ]
  },
  {
   "cell_type": "markdown",
   "metadata": {},
   "source": [
    "## Example 1:Hello World "
   ]
  },
  {
   "cell_type": "code",
   "execution_count": 3,
   "metadata": {},
   "outputs": [
    {
     "name": "stdout",
     "output_type": "stream",
     "text": [
      "HelloTanim Ahmed\n",
      "\n"
     ]
    }
   ],
   "source": [
    "my_name = \"Tanim Ahmed\"\n",
    "hello = \"Hello\" + my_name\n",
    "print(hello,end=\"\\n\\n\")\n"
   ]
  },
  {
   "cell_type": "markdown",
   "metadata": {},
   "source": [
    "Example 2:World's best loop here"
   ]
  },
  {
   "cell_type": "code",
   "execution_count": 9,
   "metadata": {},
   "outputs": [
    {
     "name": "stdout",
     "output_type": "stream",
     "text": [
      "11 1\n",
      "13 2\n",
      "16 3\n",
      "20 4\n"
     ]
    }
   ],
   "source": [
    "x = 10\n",
    "for j in range(1,5):\n",
    "    x = x+j\n",
    "    print(x,j)"
   ]
  },
  {
   "cell_type": "code",
   "execution_count": null,
   "metadata": {},
   "outputs": [],
   "source": []
  }
 ],
 "metadata": {
  "kernelspec": {
   "display_name": "Python 3",
   "language": "python",
   "name": "python3"
  },
  "language_info": {
   "codemirror_mode": {
    "name": "ipython",
    "version": 3
   },
   "file_extension": ".py",
   "mimetype": "text/x-python",
   "name": "python",
   "nbconvert_exporter": "python",
   "pygments_lexer": "ipython3",
   "version": "3.8.5"
  }
 },
 "nbformat": 4,
 "nbformat_minor": 4
}
